{
 "cells": [
  {
   "cell_type": "code",
   "execution_count": null,
   "metadata": {
    "pycharm": {
     "is_executing": false
    }
   },
   "outputs": [],
   "source": [
    "%load_ext autoreload\n",
    "%autoreload 2\n",
    "from Utils import *\n",
    "from tensorflow.compat.v1 import ConfigProto\n",
    "from tensorflow.compat.v1 import InteractiveSession\n",
    "import numpy as np\n",
    "import tensorflow.keras as K\n",
    "from tensorflow.keras import losses, optimizers, metrics\n",
    "\n",
    "config=ConfigProto()\n",
    "config.gpu_options.per_process_gpu_memory_fraction=0.5\n",
    "config.gpu_options.allow_growth=True\n",
    "session=InteractiveSession(config=config)\n",
    "import ResNet\n",
    "plt.style.use('classic')"
   ]
  },
  {
   "cell_type": "code",
   "execution_count": null,
   "metadata": {
    "pycharm": {
     "is_executing": false,
     "name": "#%%\n"
    }
   },
   "outputs": [],
   "source": [
    "batch_size=128\n",
    "num_classes=100 # For CIFAR 10 use 10\n",
    "from sklearn.model_selection import train_test_split\n",
    "\n",
    "x_train, y_train, x_test, y_test, input_shape=load_cifar100(num_classes) # For CIFAR 10 use load_cifar10(num_classes)\n",
    "x_train,x_val,y_train,y_val=train_test_split(x_train,y_train,test_size=0.1,random_state=12345)\n",
    "# x_train_12k=x_train.copy()[:12000]\n",
    "# y_train_12k=y_train.copy()[:12000]\n",
    "# print(x_train.shape,x_val.shape,y_train.shape,y_val.shape,x_train_12k.shape,y_train_12k.shape)\n",
    "if num_classes==2:\n",
    "    num_classes=1\n",
    "# train_ds=tf.data.Dataset.from_tensor_slices((x_train_12k,y_train_12k)).shuffle(y_train_12k.shape[0]).batch(batch_size)\n",
    "train_ds=tf.data.Dataset.from_tensor_slices((x_train,y_train)).shuffle(y_train.shape[0]).batch(batch_size)\n",
    "\n",
    "test_ds=tf.data.Dataset.from_tensor_slices((x_test,y_test)).shuffle(y_test.shape[0]).batch(batch_size)\n",
    "val_ds=tf.data.Dataset.from_tensor_slices((x_val,y_val)).shuffle(y_val.shape[0]).batch(batch_size)\n",
    "# print(train_ds.shape)\n",
    "import random\n",
    "sample_index=random.sample(range(x_val.shape[0]),2000)\n",
    "sample_ds=tf.data.Dataset.from_tensor_slices((x_val[sample_index],y_val[sample_index])).shuffle(y_val[sample_index].shape[0]).batch(batch_size)\n",
    "\n",
    "gc.collect()"
   ]
  },
  {
   "cell_type": "code",
   "execution_count": null,
   "metadata": {
    "pycharm": {
     "is_executing": false,
     "name": "#%%\n"
    }
   },
   "outputs": [],
   "source": [
    "from tensorflow.keras.layers import Dense, BatchNormalization, Activation , Flatten\n",
    "input_size=32\n",
    "def resnet_layer(inputs,\n",
    "                 num_filters=16,\n",
    "                 kernel_size=3,\n",
    "                 strides=1,\n",
    "                 activation='relu',\n",
    "                 batch_normalization=True,\n",
    "                 conv_first=True):\n",
    "\n",
    "    x = inputs\n",
    "    if conv_first:\n",
    "        x = K.layers.Conv2D(num_filters,\n",
    "                            kernel_size=kernel_size,\n",
    "                            strides=strides,\n",
    "                            padding='same')(x)\n",
    "        if batch_normalization:\n",
    "            x = K.layers.BatchNormalization()(x)\n",
    "        if activation is not None:    \n",
    "            x = K.layers.Activation(activation)(x)\n",
    "    else:\n",
    "        if batch_normalization:\n",
    "            x = K.layers.BatchNormalization()(x)\n",
    "        if activation is not None:    \n",
    "            x = K.layers.Activation(activation)(x)\n",
    "        x = K.layers.Conv2D(num_filters,\n",
    "                    kernel_size=kernel_size,\n",
    "                    strides=strides,\n",
    "                    padding='same')(x)    \n",
    "    return x"
   ]
  },
  {
   "cell_type": "code",
   "execution_count": null,
   "metadata": {
    "pycharm": {
     "is_executing": false,
     "name": "#%%\n"
    }
   },
   "outputs": [],
   "source": [
    "def resnet(k=16): #16 is the Standard ResNet20\n",
    "    depth=20 # resnet 20\n",
    "    num_classes=10\n",
    "    num_filters = k\n",
    "    \n",
    "    num_res_blocks = int((depth - 2) / 6)\n",
    "    inputs = K.layers.Input(shape=(input_size,input_size, 3))\n",
    "    x = resnet_layer(inputs=inputs,\n",
    "                     num_filters = num_filters)\n",
    "    for stack in range(3):\n",
    "        for res_block in range(num_res_blocks):\n",
    "            strides = 1\n",
    "            if stack > 0 and res_block == 0:  # first layer but not first stack\n",
    "                strides = 2  # downsample\n",
    "            y = resnet_layer(inputs=x,\n",
    "                             num_filters=num_filters,\n",
    "                             strides=strides)\n",
    "            y = resnet_layer(inputs=y,\n",
    "                             num_filters=num_filters,\n",
    "                             activation=None)\n",
    "            if stack > 0 and res_block == 0:  # first layer but not first stack\n",
    "                # linear projection residual shortcut connection to match\n",
    "                # changed dims\n",
    "                x = resnet_layer(inputs=x,\n",
    "                                 num_filters=num_filters,\n",
    "                                 kernel_size=1,\n",
    "                                 strides=strides,\n",
    "                                 activation=None,\n",
    "                                 batch_normalization=False)\n",
    "            # x = K.layers.Add()([x,x_inp])\n",
    "            x = K.layers.Add()([x, y])\n",
    "            x = K.layers.Activation('relu')(x)\n",
    "        num_filters *= 2\n",
    "    # Add classifier on top.\n",
    "    # v1 does not use BN after last shortcut connection-ReLU\n",
    "    x = K.layers.AveragePooling2D(pool_size=3)(x)\n",
    "    y = K.layers.Flatten()(x)\n",
    "    outputs = K.layers.Dense(num_classes,\n",
    "                    activation='softmax')(y)\n",
    "\n",
    "    # Instantiate model.\n",
    "    model = K.models.Model(inputs=inputs, outputs=outputs)\n",
    "    return model"
   ]
  },
  {
   "cell_type": "code",
   "execution_count": null,
   "metadata": {},
   "outputs": [],
   "source": [
    "net = resnet(k=16)\n",
    "net.summary()\n",
    "\n",
    "# k=16 correspond to normal ResNet-20. Should have about 27k params"
   ]
  },
  {
   "cell_type": "code",
   "execution_count": null,
   "metadata": {},
   "outputs": [],
   "source": [
    "# from keras.utils.layer_utils import count_params\n",
    "# Num_count=30\n",
    "# trainable_cnt=np.zeros(Num_count)\n",
    "# non_train_cnt=np.zeros(Num_count)\n",
    "# total_cnt=np.zeros(Num_count)\n",
    "# for k in range(Num_count):\n",
    "#     model=resnet(k=k+1)\n",
    "#     trainable_cnt[k]=count_params(model.trainable_weights)\n",
    "#     non_train_cnt[k]=count_params(model.non_trainable_weights)\n",
    "#     total_cnt[k]=trainable_cnt[k]+non_train_cnt[k]\n",
    "\n"
   ]
  },
  {
   "cell_type": "code",
   "execution_count": null,
   "metadata": {},
   "outputs": [],
   "source": [
    "\n",
    "# plt.plot(total_cnt,label='total params',linewidth=1,color='black')\n",
    "# plt.plot(trainable_cnt,label='trainable',linewidth=1,color='pink')\n",
    "# plt.plot(non_train_cnt,label='non-trainable',linewidth=1)\n",
    "# plt.legend()"
   ]
  },
  {
   "cell_type": "code",
   "execution_count": null,
   "metadata": {
    "pycharm": {
     "is_executing": false,
     "name": "#%%\n"
    },
    "scrolled": true
   },
   "outputs": [],
   "source": [
    "k=np.array([[1,5,8,10,12,14,16,18,20,25,30,35,40,45,50]])\n",
    "\n",
    "train_acc=[]\n",
    "test_acc=[]\n",
    "for width in k:\n",
    "    print('-------------k=',width,'---------------')\n",
    "    pretrain_model=resnet(k=width)\n",
    "    pretrain_model.build(input_shape)\n",
    "    history=regular_training(pretrain_model,train_ds,test_ds,lr=0.001,\n",
    "                             epoch=30,num_classes=num_classes,\n",
    "                             opt='ADAM',reduceLROnPlateau=True,\n",
    "                             augmentation=True)\n",
    "    train_acc.append(history.train_acc[-1])\n",
    "    test_acc.append(history.test_acc[-1])\n",
    "    history.train_ds=[]\n",
    "    history.test_ds=[]\n",
    "    history.save('result/pretrain_{}.history'.format(width))\n",
    "np.save('result/pretrain_acc',[train_acc,test_acc])"
   ]
  },
  {
   "cell_type": "code",
   "execution_count": null,
   "metadata": {},
   "outputs": [],
   "source": [
    "k=np.array([[1,5,8,10,12,14,16,18,20,25,30,35,40,45,50]])"
   ]
  },
  {
   "cell_type": "code",
   "execution_count": null,
   "metadata": {
    "pycharm": {
     "is_executing": false,
     "name": "#%%\n"
    },
    "scrolled": true
   },
   "outputs": [],
   "source": [
    "sparse_train_acc=[]\n",
    "sparse_test_acc=[]\n",
    "s=10\n",
    "for width in k:\n",
    "    print('-------------k=',width,'---------------,s/k=',float(s)/float(width))\n",
    "    if width<s:\n",
    "        continue\n",
    "    history_training_full=TrainHistory.load('result/pretrain_{}.history'.format(width))\n",
    "    pruned_model=resnet(k=width)\n",
    "    pruned_model.build(input_shape)\n",
    "    pruned_model.set_weights(history_training_full.final_weights)\n",
    "    masks=compute_mask(pruned_model,float(s)/float(width),global_pruning=True,exclude=[])\n",
    "    pruned_model.set_weights(history_training_full.init_weights)\n",
    "    sparse_history=mask_training(pruned_model,masks,train_ds,test_ds,lr=0.001,\n",
    "                         epoch=100,num_classes=num_classes,opt='ADAM',reduceLROnPlateau=True)\n",
    "    sparse_train_acc.append(sparse_history.train_acc[-1])\n",
    "    sparse_test_acc.append(sparse_history.test_acc[-1])\n",
    "    sparse_history.train_ds=[]\n",
    "    sparse_history.test_ds=[]\n",
    "    sparse_history.save('result/sparse_{}_s={}.history'.format(width,s))\n",
    "np.save('result/sparse_acc',[sparse_train_acc,sparse_test_acc])   \n",
    "  "
   ]
  },
  {
   "cell_type": "code",
   "execution_count": null,
   "metadata": {},
   "outputs": [],
   "source": []
  }
 ],
 "metadata": {
  "kernelspec": {
   "display_name": "Python 3",
   "language": "python",
   "name": "python3"
  },
  "language_info": {
   "codemirror_mode": {
    "name": "ipython",
    "version": 3
   },
   "file_extension": ".py",
   "mimetype": "text/x-python",
   "name": "python",
   "nbconvert_exporter": "python",
   "pygments_lexer": "ipython3",
   "version": "3.9.7"
  },
  "pycharm": {
   "stem_cell": {
    "cell_type": "raw",
    "metadata": {
     "collapsed": false
    },
    "source": []
   }
  }
 },
 "nbformat": 4,
 "nbformat_minor": 1
}
